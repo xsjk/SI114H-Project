{
 "cells": [
  {
   "cell_type": "code",
   "execution_count": 10,
   "metadata": {},
   "outputs": [],
   "source": [
    "import open3d\n",
    "import open3d.visualization\n",
    "import open3d.geometry\n",
    "import open3d.io\n",
    "from open3d.visualization.draw_plotly import get_graph_objects\n",
    "import plotly.graph_objects as go\n",
    "import numpy as np"
   ]
  },
  {
   "cell_type": "code",
   "execution_count": 13,
   "metadata": {},
   "outputs": [],
   "source": [
    "# Load a mesh\n",
    "mesh = open3d.io.read_triangle_mesh(\"sound_board.stl\")\n",
    "\n",
    "# Remove duplicated vertices\n",
    "vertices = np.asarray(mesh.vertices)\n",
    "triangles = np.asarray(mesh.triangles)\n",
    "normals = np.asarray(mesh.vertex_normals)\n",
    "\n",
    "vertices, indices, inverse_indices = np.unique(vertices, axis=0, return_index=True, return_inverse=True)\n",
    "triangles, normals = inverse_indices[triangles], normals[indices]\n",
    "\n",
    "# Create a new mesh with the unique vertices\n",
    "mesh = open3d.geometry.TriangleMesh()\n",
    "mesh.vertices = open3d.utility.Vector3dVector(vertices)\n",
    "mesh.triangles = open3d.utility.Vector3iVector(triangles)\n",
    "mesh.vertex_normals = open3d.utility.Vector3dVector(normals)\n",
    "\n",
    "# Simplify the mesh\n",
    "simplified_mesh = mesh.simplify_quadric_decimation(target_number_of_triangles=500)\n",
    "simplified_mesh.compute_vertex_normals()\n",
    "open3d.io.write_triangle_mesh(\"sound_board_simplified.stl\", simplified_mesh)\n"
   ]
  },
  {
   "cell_type": "code",
   "execution_count": null,
   "metadata": {},
   "outputs": [],
   "source": [
    "vertices = np.asarray(mesh.vertices)\n",
    "triangles = np.asarray(mesh.triangles)\n",
    "\n",
    "fig = go.Figure()\n",
    "fig.add_trace(go.Mesh3d(x=vertices[:, 0], y=vertices[:, 1], z=vertices[:, 2], i=triangles[:, 0], j=triangles[:, 1], k=triangles[:, 2], color='lightblue', opacity=0.5))\n",
    "fig.update_layout(\n",
    "    scene_aspectmode='data',\n",
    "    scene=dict(\n",
    "        # xaxis=dict(range=[-0.1, 0.1]),\n",
    "        yaxis=dict(range=[-0.05, -0.04]),\n",
    "        # zaxis=dict(range=[0.2, 0.4]),\n",
    "    )\n",
    ")"
   ]
  }
 ],
 "metadata": {
  "kernelspec": {
   "display_name": "torch",
   "language": "python",
   "name": "python3"
  },
  "language_info": {
   "codemirror_mode": {
    "name": "ipython",
    "version": 3
   },
   "file_extension": ".py",
   "mimetype": "text/x-python",
   "name": "python",
   "nbconvert_exporter": "python",
   "pygments_lexer": "ipython3",
   "version": "3.11.6"
  }
 },
 "nbformat": 4,
 "nbformat_minor": 2
}
