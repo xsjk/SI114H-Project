{
 "cells": [
  {
   "cell_type": "code",
   "execution_count": 1,
   "metadata": {},
   "outputs": [
    {
     "name": "stdout",
     "output_type": "stream",
     "text": [
      "Jupyter environment detected. Enabling Open3D WebVisualizer.\n",
      "[Open3D INFO] WebRTC GUI backend enabled.\n",
      "[Open3D INFO] WebRTCWindowSystem: HTTP handshake server disabled.\n"
     ]
    }
   ],
   "source": [
    "from constants import constants\n",
    "import open3d as o3d\n",
    "import numpy as np\n",
    "import scipy.sparse as sp\n",
    "mesh = o3d.io.read_triangle_mesh(\"sound_board.stl\")\n",
    "\n",
    "vertices = np.asarray(mesh.vertices)\n",
    "triangles = np.asarray(mesh.triangles)\n",
    "normals = np.asarray(mesh.vertex_normals)\n",
    "\n",
    "vertices, indices, inverse_indices = np.unique(vertices, axis=0, return_index=True, return_inverse=True)\n",
    "triangles, normals = inverse_indices[triangles], normals[indices]\n"
   ]
  },
  {
   "cell_type": "code",
   "execution_count": 2,
   "metadata": {},
   "outputs": [],
   "source": [
    "from models import String\n",
    "string = String(constants)\n",
    "constants['M_sh'] = string.M_sh\n",
    "constants['D_h'] = string.D_h\n",
    "constants['f_sh'] = string.get_f_sh\n",
    "constants['M_qh'] = string.M_qh"
   ]
  },
  {
   "cell_type": "code",
   "execution_count": 3,
   "metadata": {},
   "outputs": [
    {
     "name": "stdout",
     "output_type": "stream",
     "text": [
      "SoundBoard Info:\n",
      "# of vertices: 3508\n",
      "# of edges: 10200\n",
      "# of centriods: 6692\n",
      "# of total points: 20400\n",
      "# of edges on gamma_f: 112\n",
      "# of edges on gamma_0: 212\n"
     ]
    }
   ],
   "source": [
    "from models import SoundBoard\n",
    "soundboard = SoundBoard(vertices, triangles, constants)\n",
    "constants['J_h'] = soundboard.J_h\n",
    "constants['H_h'] = soundboard.H_h\n",
    "constants['M_Mh'] = soundboard.M_Mh\n",
    "constants['M_ph'] = soundboard.M_ph\n",
    "constants['B_w_h'] = soundboard.B_w_h_transpose.T"
   ]
  },
  {
   "cell_type": "code",
   "execution_count": 4,
   "metadata": {},
   "outputs": [],
   "source": [
    "from models import Air\n",
    "air = Air(constants)\n",
    "constants['M_pah'] = air.M_pah\n",
    "constants['Gh'] = air.Gh_transpose.T\n",
    "constants['M_ah'] = air.M_ah"
   ]
  },
  {
   "cell_type": "code",
   "execution_count": 5,
   "metadata": {},
   "outputs": [],
   "source": [
    "from models import Gamma\n",
    "gamma = Gamma(vertices, normals, triangles)"
   ]
  },
  {
   "cell_type": "code",
   "execution_count": 6,
   "metadata": {},
   "outputs": [],
   "source": [
    "from models import get_B_gamma_h\n",
    "constants['B_gamma_h'] = get_B_gamma_h(air, gamma)"
   ]
  },
  {
   "cell_type": "code",
   "execution_count": 7,
   "metadata": {},
   "outputs": [
    {
     "name": "stdout",
     "output_type": "stream",
     "text": [
      "v_s\t(99,)\n",
      "q\t(100,)\n",
      "v_p\t(20400,)\n",
      "M_p\t(61200,)\n",
      "v_a\t(382500,)\n",
      "p_a\t(125000,)\n",
      "lambda\t(44761,)\n",
      "\n",
      "constants['M_sh'].shape = (99, 99)\n",
      "constants['M_qh'].shape = (100, 100)\n",
      "constants['M_Mh'].shape = (61200, 61200)\n",
      "constants['M_ph'].shape = (20400, 20400)\n",
      "constants['M_ah'].shape = (382500, 382500)\n",
      "constants['M_pah'].shape = (125000, 125000)\n",
      "constants['D_h'].shape = (99, 100)\n",
      "constants['J_h'].shape = (20400, 100)\n",
      "constants['H_h'].shape = (61200, 20400)\n",
      "constants['B_w_h'].shape = (44761, 20400)\n",
      "constants['Gh'].shape = (382500, 125000)\n"
     ]
    }
   ],
   "source": [
    "variables = {\n",
    "    # variables on the string\n",
    "    'v_s': np.zeros((constants['Ns']-1)),    # v_s is piecewise constant on the string\n",
    "    'q': np.zeros((constants['Ns'])),         # q_s is piecewise linear on the string\n",
    "\n",
    "    # variables on the soundboard\n",
    "    'v_p': np.zeros((soundboard.num_vertices + soundboard.num_edges + soundboard.num_centers)),\n",
    "    'M_p': np.zeros((soundboard.num_vertices + soundboard.num_edges + soundboard.num_centers) * 3),\n",
    "\n",
    "    # variables in the air\n",
    "    'v_a': np.zeros(3 * (air.resolution[0] * air.resolution[1] * air.resolution[2]) + air.resolution[0] * air.resolution[1] + air.resolution[1] * air.resolution[2] + air.resolution[0] * air.resolution[2]),\n",
    "    'p_a': np.zeros(air.resolution[0] * air.resolution[1] * air.resolution[2]),\n",
    "    \n",
    "    # variables on the gittar body\n",
    "    'lambda': np.zeros((len(vertices))),\n",
    "}\n",
    "\n",
    "\n",
    "for k, v in variables.items():\n",
    "    print(k, v.shape, sep='\\t')\n",
    "print()\n",
    "\n",
    "print(f\"{constants['M_sh'].shape = }\")\n",
    "print(f\"{constants['M_qh'].shape = }\")\n",
    "print(f\"{constants['M_Mh'].shape = }\")\n",
    "print(f\"{constants['M_ph'].shape = }\")\n",
    "print(f\"{constants['M_ah'].shape = }\")\n",
    "print(f\"{constants['M_pah'].shape = }\")\n",
    "print(f\"{constants['D_h'].shape = }\")\n",
    "print(f\"{constants['J_h'].shape = }\")\n",
    "print(f\"{constants['H_h'].shape = }\")\n",
    "print(f\"{constants['B_w_h'].shape = }\")\n",
    "print(f\"{constants['Gh'].shape = }\")\n"
   ]
  },
  {
   "cell_type": "markdown",
   "metadata": {},
   "source": []
  },
  {
   "cell_type": "code",
   "execution_count": 8,
   "metadata": {},
   "outputs": [],
   "source": [
    "import pickle\n",
    "pickle.dump((constants, (string, soundboard, air, gamma)), open('constants.pkl', 'wb'))"
   ]
  }
 ],
 "metadata": {
  "kernelspec": {
   "display_name": "torch",
   "language": "python",
   "name": "python3"
  },
  "language_info": {
   "codemirror_mode": {
    "name": "ipython",
    "version": 3
   },
   "file_extension": ".py",
   "mimetype": "text/x-python",
   "name": "python",
   "nbconvert_exporter": "python",
   "pygments_lexer": "ipython3",
   "version": "3.1.undefined"
  }
 },
 "nbformat": 4,
 "nbformat_minor": 2
}
