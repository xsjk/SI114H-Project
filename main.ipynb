{
 "cells": [
  {
   "cell_type": "code",
   "execution_count": 1,
   "metadata": {},
   "outputs": [],
   "source": [
    "\n",
    "constants = {\n",
    "\n",
    "    # paramater for string\n",
    "    \"Ns\": 100,              # number of points to discretize the string\n",
    "    \"ls\": 0.64,             # length of the string\n",
    "    \"rho_s\": 1.0,           # density of the string\n",
    "    \"T\": 1.0,               # the tension of the string\n",
    "\n",
    "    # parameter for plucking force\n",
    "    \"t1\": 0.1,              # the time when the plucking force is maximum\n",
    "    \"t2\": 0.2,              # the time when the plucking force is released\n",
    "    \"delta_s\": 0.1,         # space extent of the plucking force\n",
    "    \n",
    "    # parameter for plate\n",
    "    \"D1\": 850.0,\n",
    "    \"D2\": 50.0,\n",
    "    \"D3\": 75.0,\n",
    "    \"D4\": 200.0,\n",
    "    \"rho_p\": 350,\n",
    "    \"eta_p\": 0.005,\n",
    "    \"R_p\": 7,\n",
    "    'a': 0.0029,\n",
    "    \"plate vertical axis\": 1,\n",
    "    \"plate thd\": -0.04645,\n",
    "    \"plate x axis\": 0,\n",
    "    \"plate x min\": -0.075,\n",
    "    \"plate x max\": 0.075,\n",
    "    \"plate y axis\": 2,\n",
    "    \"plate y min\": 0.25,\n",
    "    \"plate y max\": 0.40,\n",
    "    \"gamma_0_ref_dir\": False,\n",
    "    \"gamma_f_ref_dir\": False,\n",
    "\n",
    "    # parameter for air \n",
    "\n",
    "\n",
    "    # coupling parameters\n",
    "    \"x0\": 0, \"y0\": 0.1, # the position of the interaction point between the string and the plate\n",
    "\n",
    "}\n",
    "\n",
    "variables = {\n",
    "    'M_sh': None,\n",
    "    'D_sh': None,\n",
    "    'f_sh': None,\n",
    "    'M_qh': None,\n",
    "\n",
    "    'M_ph': None,\n",
    "    \n",
    "}\n"
   ]
  },
  {
   "cell_type": "code",
   "execution_count": 2,
   "metadata": {},
   "outputs": [
    {
     "name": "stdout",
     "output_type": "stream",
     "text": [
      "Jupyter environment detected. Enabling Open3D WebVisualizer.\n",
      "[Open3D INFO] WebRTC GUI backend enabled.\n",
      "[Open3D INFO] WebRTCWindowSystem: HTTP handshake server disabled.\n"
     ]
    }
   ],
   "source": [
    "from models import String\n",
    "string = String(constants)\n",
    "variables['M_sh'] = string.M_sh\n",
    "variables['D_h'] = string.D_h\n",
    "variables['f_sh'] = string.get_f_sh\n",
    "variables['M_qh'] = string.M_qh"
   ]
  },
  {
   "cell_type": "code",
   "execution_count": 3,
   "metadata": {},
   "outputs": [
    {
     "name": "stdout",
     "output_type": "stream",
     "text": [
      "SoundBoard Info:\n",
      "# of vertices: 3508\n",
      "# of edges: 10200\n",
      "# of centriods: 6692\n",
      "# of total points: 20400\n",
      "# of edges on gamma_f: 112\n",
      "# of edges on gamma_0: 212\n"
     ]
    }
   ],
   "source": [
    "import open3d as o3d\n",
    "import numpy as np\n",
    "mesh = o3d.io.read_triangle_mesh(\"sound_board.stl\")\n",
    "\n",
    "vertices = np.asanyarray(mesh.vertices)\n",
    "triangles = np.asanyarray(mesh.triangles)\n",
    "\n",
    "vertices, inverse_indices = np.unique(vertices, axis=0, return_inverse=True)\n",
    "triangles = inverse_indices[triangles]\n",
    "\n",
    "from models import SoundBoard\n",
    "soundBoard = SoundBoard(vertices, triangles, constants)\n",
    "\n",
    "variables['M_ph'] = soundBoard.M_ph\n"
   ]
  },
  {
   "cell_type": "code",
   "execution_count": 4,
   "metadata": {},
   "outputs": [
    {
     "data": {
      "text/plain": [
       "array([0.18651307, 0.05432427, 0.48692846])"
      ]
     },
     "execution_count": 4,
     "metadata": {},
     "output_type": "execute_result"
    }
   ],
   "source": [
    "np.max(vertices, 0)"
   ]
  },
  {
   "cell_type": "code",
   "execution_count": 5,
   "metadata": {},
   "outputs": [
    {
     "data": {
      "text/plain": [
       "array([-0.18595666, -0.04650379,  0.00143154])"
      ]
     },
     "execution_count": 5,
     "metadata": {},
     "output_type": "execute_result"
    }
   ],
   "source": [
    "np.min(vertices, 0)"
   ]
  },
  {
   "cell_type": "code",
   "execution_count": 6,
   "metadata": {},
   "outputs": [],
   "source": [
    "from models import Air\n",
    "\n",
    "# air = Air(constants)\n",
    "# variables['M_ah'] = air.M_ah\n",
    "# variables['D_h'] = air.D_h"
   ]
  },
  {
   "cell_type": "code",
   "execution_count": 7,
   "metadata": {},
   "outputs": [
    {
     "data": {
      "text/plain": [
       "{'M_sh': <99x99 sparse matrix of type '<class 'numpy.float64'>'\n",
       " \twith 99 stored elements in COOrdinate format>,\n",
       " 'D_sh': None,\n",
       " 'f_sh': <bound method String.get_f_sh of <models.String object at 0x747a2833e350>>,\n",
       " 'M_qh': <100x100 sparse matrix of type '<class 'numpy.float64'>'\n",
       " \twith 396 stored elements in COOrdinate format>,\n",
       " 'M_ph': <20400x20400 sparse matrix of type '<class 'numpy.float64'>'\n",
       " \twith 242208 stored elements in Dictionary Of Keys format>,\n",
       " 'D_h': <99x100 sparse matrix of type '<class 'numpy.float64'>'\n",
       " \twith 198 stored elements in COOrdinate format>}"
      ]
     },
     "execution_count": 7,
     "metadata": {},
     "output_type": "execute_result"
    }
   ],
   "source": [
    "variables"
   ]
  }
 ],
 "metadata": {
  "kernelspec": {
   "display_name": "torch",
   "language": "python",
   "name": "python3"
  },
  "language_info": {
   "codemirror_mode": {
    "name": "ipython",
    "version": 3
   },
   "file_extension": ".py",
   "mimetype": "text/x-python",
   "name": "python",
   "nbconvert_exporter": "python",
   "pygments_lexer": "ipython3",
   "version": "3.11.6"
  }
 },
 "nbformat": 4,
 "nbformat_minor": 2
}
