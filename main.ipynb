{
 "cells": [
  {
   "cell_type": "code",
   "execution_count": 1,
   "metadata": {},
   "outputs": [
    {
     "name": "stdout",
     "output_type": "stream",
     "text": [
      "Jupyter environment detected. Enabling Open3D WebVisualizer.\n",
      "[Open3D INFO] WebRTC GUI backend enabled.\n",
      "[Open3D INFO] WebRTCWindowSystem: HTTP handshake server disabled.\n"
     ]
    }
   ],
   "source": [
    "from constants import constants\n",
    "import open3d as o3d\n",
    "import numpy as np\n",
    "mesh = o3d.io.read_triangle_mesh(\"sound_board.stl\")\n",
    "\n",
    "vertices = np.asanyarray(mesh.vertices)\n",
    "triangles = np.asanyarray(mesh.triangles)\n",
    "\n",
    "vertices, inverse_indices = np.unique(vertices, axis=0, return_inverse=True)\n",
    "triangles = inverse_indices[triangles]\n"
   ]
  },
  {
   "cell_type": "code",
   "execution_count": 2,
   "metadata": {},
   "outputs": [],
   "source": [
    "from models import String\n",
    "string = String(constants)\n",
    "constants['M_sh'] = string.M_sh\n",
    "constants['D_h'] = string.D_h\n",
    "constants['f_sh'] = string.get_f_sh\n",
    "constants['M_qh'] = string.M_qh"
   ]
  },
  {
   "cell_type": "code",
   "execution_count": 3,
   "metadata": {},
   "outputs": [],
   "source": [
    "from models import SoundBoard\n",
    "guittar = SoundBoard(vertices, triangles, constants)"
   ]
  },
  {
   "cell_type": "code",
   "execution_count": 4,
   "metadata": {},
   "outputs": [],
   "source": [
    "from models import Air\n",
    "air = Air(constants)"
   ]
  }
 ],
 "metadata": {
  "kernelspec": {
   "display_name": "torch",
   "language": "python",
   "name": "python3"
  },
  "language_info": {
   "codemirror_mode": {
    "name": "ipython",
    "version": 3
   },
   "file_extension": ".py",
   "mimetype": "text/x-python",
   "name": "python",
   "nbconvert_exporter": "python",
   "pygments_lexer": "ipython3",
   "version": "3.11.5"
  }
 },
 "nbformat": 4,
 "nbformat_minor": 2
}
