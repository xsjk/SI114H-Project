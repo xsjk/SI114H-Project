{
 "cells": [
  {
   "cell_type": "code",
   "execution_count": 1,
   "metadata": {},
   "outputs": [
    {
     "name": "stdout",
     "output_type": "stream",
     "text": [
      "Jupyter environment detected. Enabling Open3D WebVisualizer.\n",
      "[Open3D INFO] WebRTC GUI backend enabled.\n",
      "[Open3D INFO] WebRTCWindowSystem: HTTP handshake server disabled.\n"
     ]
    }
   ],
   "source": [
    "import numpy as np\n",
    "import open3d as o3d\n",
    "import scipy.sparse as sp\n",
    "from collections import defaultdict\n",
    "from scipy import integrate\n"
   ]
  },
  {
   "cell_type": "code",
   "execution_count": 2,
   "metadata": {},
   "outputs": [],
   "source": [
    "#utils\n",
    "import scipy.sparse as sp\n",
    "def create_sprase_mat(dict:defaultdict[tuple[int, int], float], shape:tuple[int, int])->sp.coo_matrix:\n",
    "    row_idxs:list[int] = []\n",
    "    col_idxs:list[int] = []\n",
    "    vals:list[float] = []\n",
    "\n",
    "    for r_idx, c_idx in dict:\n",
    "        row_idxs.append(r_idx)\n",
    "        col_idxs.append(c_idx)\n",
    "        vals.append(dict[(r_idx, c_idx)])\n",
    "    \n",
    "    return sp.coo_matrix((vals, (row_idxs, col_idxs)), shape=shape)\n"
   ]
  },
  {
   "cell_type": "code",
   "execution_count": 3,
   "metadata": {},
   "outputs": [],
   "source": [
    "class String:\n",
    "    def __init__(self, config:dict) -> None:\n",
    "        self.config = config\n",
    "\n",
    "    def __get_M_sh(self)->None:\n",
    "        ret_data:defaultdict[tuple[int, int], float] = defaultdict(lambda : 0.0)\n",
    "        Ns = self.config[\"Ns\"]\n",
    "        ls = self.config[\"ls\"]\n",
    "        rho_s = self.config[\"rho_s\"]\n",
    "\n",
    "        for i in range(Ns - 1):\n",
    "            ret_data[(i, i)] += ls * rho_s / (Ns - 1)\n",
    "\n",
    "        self.M_sh = create_sprase_mat(ret_data, (Ns-1, Ns-1))\n",
    "\n",
    "    def __get_D_h(self)->None:\n",
    "        ret_data:defaultdict[tuple[int, int], float] = defaultdict(lambda : 0.0)\n",
    "        Ns = self.config[\"Ns\"]\n",
    "        T = self.config[\"T\"]\n",
    "\n",
    "        for i in range(Ns - 1):\n",
    "            ret_data[(i, i)] += -T\n",
    "            ret_data[(i, i+1)] += T\n",
    "\n",
    "        self.D_h = create_sprase_mat(ret_data, (Ns-1, Ns))\n",
    "\n",
    "    def __h_t(self, t)->float:\n",
    "        assert t>=0.0, \"t must be larger or equal to zero\"\n",
    "        t1 = self.config[\"t1\"]\n",
    "        t2 = self.config[\"t2\"]\n",
    "        if 0.0 <= t < t1:\n",
    "            return 1.0 - np.cos(np.pi * t / t1)\n",
    "        elif t < t2:\n",
    "            return 1.0 + np.cos(np.pi * (t - t1) / (t2 - t1))\n",
    "        else:\n",
    "            return 0.0\n",
    "\n",
    "\n",
    "    def get_f_sh(self, t)->None:\n",
    "        x0 = self.config[\"x0\"]\n",
    "        delta_s = self.config[\"delta_s\"]\n",
    "        ls = self.config[\"ls\"]\n",
    "        Ns = self.config[\"Ns\"]\n",
    "        \n",
    "        integrand = lambda x : np.exp(-(x-x0 / delta_s) ** 2)\n",
    "        int_0_ls, error = integrand.quad(integrand, 0.0, ls)\n",
    "        inv_int_0_ls = 1.0 / int_0_ls\n",
    "\n",
    "        ht = self.__h_t(t)\n",
    "\n",
    "        ret = np.zeros(Ns - 1, dtype=np.float64)\n",
    "\n",
    "        for i in range(Ns - 1):\n",
    "            ret[i] = integrand.quad(integrand, i * ls / (Ns - 1), (i + 1) * ls / (Ns - 1))\n",
    "\n",
    "        ret *= ht * inv_int_0_ls\n",
    "        self.f_sh = ret\n",
    "\n",
    "    def __get_M_qh(self)->None:\n",
    "        ls = self.config[\"ls\"]\n",
    "        Ns = self.config[\"Ns\"]\n",
    "        T  = self.config[\"T\"]\n",
    "\n",
    "        data:defaultdict[tuple[int, int], float] = defaultdict(lambda : 0.0)\n",
    "\n",
    "        Q0 = 1 / (3 * T) * (ls / (Ns - 1)) ** 5\n",
    "        Q1 = 1 / (6 * T) * (ls / (Ns - 1)) ** 5\n",
    "\n",
    "        for i in range(Ns - 1):\n",
    "            data[(i, i)] += Q0\n",
    "            data[(i+1, i+1)] += Q0\n",
    "            data[(i, i+1)] += Q1\n",
    "            data[(i+1, i)] += Q1\n",
    "        \n",
    "        self.M_qh = create_sprase_mat(data, (Ns, Ns))"
   ]
  },
  {
   "cell_type": "code",
   "execution_count": null,
   "metadata": {},
   "outputs": [],
   "source": []
  }
 ],
 "metadata": {
  "kernelspec": {
   "display_name": "base",
   "language": "python",
   "name": "python3"
  },
  "language_info": {
   "codemirror_mode": {
    "name": "ipython",
    "version": 3
   },
   "file_extension": ".py",
   "mimetype": "text/x-python",
   "name": "python",
   "nbconvert_exporter": "python",
   "pygments_lexer": "ipython3",
   "version": "3.11.5"
  }
 },
 "nbformat": 4,
 "nbformat_minor": 2
}
