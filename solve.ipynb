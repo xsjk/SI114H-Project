{
 "cells": [
  {
   "cell_type": "code",
   "execution_count": 1,
   "metadata": {},
   "outputs": [
    {
     "name": "stdout",
     "output_type": "stream",
     "text": [
      "Jupyter environment detected. Enabling Open3D WebVisualizer.\n",
      "[Open3D INFO] WebRTC GUI backend enabled.\n",
      "[Open3D INFO] WebRTCWindowSystem: HTTP handshake server disabled.\n"
     ]
    }
   ],
   "source": [
    "import pickle\n",
    "from models import String, Gamma, Air, SoundBoard\n",
    "import numpy as np\n",
    "import scipy.sparse as sp\n",
    "import cupy as cp\n",
    "import cupyx\n",
    "import cupyx.scipy.sparse.linalg\n",
    "from tqdm import tqdm\n",
    "\n",
    "from sparse_utils import inv, set_tol, cpu_to_gpu, gpu_to_cpu"
   ]
  },
  {
   "cell_type": "code",
   "execution_count": 2,
   "metadata": {},
   "outputs": [
    {
     "name": "stdout",
     "output_type": "stream",
     "text": [
      "constants['M_sh'].shape = (99, 99)\n",
      "constants['M_qh'].shape = (100, 100)\n",
      "constants['M_Mh'].shape = (61200, 61200)\n",
      "constants['M_ph'].shape = (20400, 20400)\n",
      "constants['M_ah'].shape = (382500, 382500)\n",
      "constants['M_pah'].shape = (125000, 125000)\n",
      "constants['D_h'].shape = (99, 100)\n",
      "constants['J_h'].shape = (20400, 100)\n",
      "constants['H_h'].shape = (61200, 20400)\n",
      "constants['B_w_h'].shape = (44761, 20400)\n",
      "constants['Gh'].shape = (382500, 125000)\n"
     ]
    }
   ],
   "source": [
    "constants: dict[str, sp.spmatrix | cp.sparse.spmatrix]\n",
    "string: String\n",
    "soundboard: SoundBoard\n",
    "air: Air\n",
    "gamma: Gamma\n",
    "constants, (string, soundboard, air, gamma) = pickle.load(open('constants.pkl', 'rb'))\n",
    "\n",
    "print(f\"{constants['M_sh'].shape = }\")\n",
    "print(f\"{constants['M_qh'].shape = }\")\n",
    "print(f\"{constants['M_Mh'].shape = }\")\n",
    "print(f\"{constants['M_ph'].shape = }\")\n",
    "print(f\"{constants['M_ah'].shape = }\")\n",
    "print(f\"{constants['M_pah'].shape = }\")\n",
    "print(f\"{constants['D_h'].shape = }\")\n",
    "print(f\"{constants['J_h'].shape = }\")\n",
    "print(f\"{constants['H_h'].shape = }\")\n",
    "print(f\"{constants['B_w_h'].shape = }\")\n",
    "print(f\"{constants['Gh'].shape = }\")\n"
   ]
  },
  {
   "cell_type": "code",
   "execution_count": null,
   "metadata": {},
   "outputs": [],
   "source": [
    "for key in list(constants.keys()):\n",
    "    if key.startswith('M') and not key.endswith('inverse'):\n",
    "        if key + '_inverse' not in constants:\n",
    "            print(key)\n",
    "            # calculate the inverse\n",
    "            print(f\"Calculating {key}\")\n",
    "            constants[key + '_inverse'] = inv(cp.sparse.coo_matrix(constants[key]))"
   ]
  },
  {
   "cell_type": "code",
   "execution_count": 5,
   "metadata": {},
   "outputs": [],
   "source": [
    "gpu_to_cpu(constants)\n",
    "constants['K_h'] = constants[\"H_h\"].T @ constants[\"M_Mh_inverse\"] @ constants[\"H_h\"]\n",
    "constants['K_h'] = cp.asarray(constants['K_h'].toarray())\n",
    "constants['omega_n'], _ = cp.linalg.eigh(constants['K_h'])"
   ]
  },
  {
   "cell_type": "code",
   "execution_count": 8,
   "metadata": {},
   "outputs": [],
   "source": [
    "constants['delta_t'] = 1/ 50000\n",
    "constants['n_specturm'] = 50"
   ]
  },
  {
   "cell_type": "code",
   "execution_count": 9,
   "metadata": {},
   "outputs": [],
   "source": [
    "pickle.dump((constants, (string, soundboard, air, gamma)), open('constants.pkl', 'wb'))"
   ]
  },
  {
   "cell_type": "code",
   "execution_count": null,
   "metadata": {},
   "outputs": [],
   "source": []
  }
 ],
 "metadata": {
  "kernelspec": {
   "display_name": "torch",
   "language": "python",
   "name": "python3"
  },
  "language_info": {
   "codemirror_mode": {
    "name": "ipython",
    "version": 3
   },
   "file_extension": ".py",
   "mimetype": "text/x-python",
   "name": "python",
   "nbconvert_exporter": "python",
   "pygments_lexer": "ipython3",
   "version": "3.11.6"
  }
 },
 "nbformat": 4,
 "nbformat_minor": 2
}
