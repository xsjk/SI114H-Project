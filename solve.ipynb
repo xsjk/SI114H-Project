{
 "cells": [
  {
   "cell_type": "code",
   "execution_count": 6,
   "metadata": {},
   "outputs": [],
   "source": [
    "import pickle\n",
    "from models import String, Gamma, Air, SoundBoard\n",
    "import numpy as np\n",
    "import scipy.sparse as sp\n",
    "import cupy as cp\n",
    "import cupyx\n",
    "import cupyx.scipy.sparse.linalg\n",
    "from tqdm import tqdm\n"
   ]
  },
  {
   "cell_type": "code",
   "execution_count": 3,
   "metadata": {},
   "outputs": [],
   "source": [
    "constants: dict[str, sp.spmatrix | cp.sparse.spmatrix]\n",
    "string: String\n",
    "soundboard: SoundBoard\n",
    "air: Air\n",
    "gamma: Gamma\n",
    "constants, (string, soundboard, air, gamma) = pickle.load(open('constants.pkl', 'rb'))\n",
    "\n",
    "for key, value in constants.items():\n",
    "    if isinstance(constants[key], sp.spmatrix):\n",
    "        constants[key] = cupyx.scipy.sparse.csr_matrix(value)\n"
   ]
  },
  {
   "cell_type": "code",
   "execution_count": 3,
   "metadata": {},
   "outputs": [
    {
     "name": "stdout",
     "output_type": "stream",
     "text": [
      "constants['M_sh'].shape = (99, 99)\n",
      "constants['M_qh'].shape = (100, 100)\n",
      "constants['M_Mh'].shape = (61200, 61200)\n",
      "constants['M_ph'].shape = (20400, 20400)\n",
      "constants['M_ah'].shape = (382500, 382500)\n",
      "constants['M_pah'].shape = (125000, 125000)\n",
      "constants['D_h'].shape = (99, 100)\n",
      "constants['J_h'].shape = (20400, 100)\n",
      "constants['H_h'].shape = (61200, 20400)\n",
      "constants['B_w_h'].shape = (44761, 20400)\n",
      "constants['Gh'].shape = (382500, 125000)\n"
     ]
    }
   ],
   "source": [
    "print(f\"{constants['M_sh'].shape = }\")\n",
    "print(f\"{constants['M_qh'].shape = }\")\n",
    "print(f\"{constants['M_Mh'].shape = }\")\n",
    "print(f\"{constants['M_ph'].shape = }\")\n",
    "print(f\"{constants['M_ah'].shape = }\")\n",
    "print(f\"{constants['M_pah'].shape = }\")\n",
    "print(f\"{constants['D_h'].shape = }\")\n",
    "print(f\"{constants['J_h'].shape = }\")\n",
    "print(f\"{constants['H_h'].shape = }\")\n",
    "print(f\"{constants['B_w_h'].shape = }\")\n",
    "print(f\"{constants['Gh'].shape = }\")\n"
   ]
  },
  {
   "cell_type": "code",
   "execution_count": 4,
   "metadata": {},
   "outputs": [],
   "source": [
    "def inv(A: cp.sparse.spmatrix, batch_size: int = 1000) -> cp.sparse.spmatrix:\n",
    "    assert A.shape[0] == A.shape[1]\n",
    "    assert batch_size > 0\n",
    "\n",
    "    n = A.shape[0]\n",
    "\n",
    "    columns = cp.empty((0,), dtype=cp.int32)\n",
    "    rows = cp.empty((0,), dtype=cp.int32)\n",
    "    values = cp.empty((0,), dtype=A.dtype)\n",
    "\n",
    "    A_factorized = cupyx.scipy.sparse.linalg.factorized(A)\n",
    "    for i in tqdm(range(0, n, batch_size)):\n",
    "        b = cp.zeros((n, batch_size))\n",
    "        for j in range(min(batch_size, n-i)):\n",
    "            b[i+j, j] = 1\n",
    "        x = A_factorized(b)\n",
    "        \n",
    "        nonzeros = cp.asnumpy(x).nonzero()\n",
    "        nonzeros_gpu = cp.asarray(nonzeros)\n",
    "        columns = cp.concatenate((columns, nonzeros_gpu[0]), axis=0)\n",
    "        rows = cp.concatenate((rows, nonzeros_gpu[1] + i), axis=0)\n",
    "        values = cp.concatenate((values, x[nonzeros]), axis=0)\n",
    "\n",
    "    return cupyx.scipy.sparse.coo_matrix((values, (rows, columns)), shape=(n, n))\n",
    "\n",
    "def set_tol(A: cp.sparse.coo_matrix, tol: float):\n",
    "    A.data[cp.abs(A.data) < tol] = 0\n",
    "    A.eliminate_zeros()\n"
   ]
  },
  {
   "cell_type": "code",
   "execution_count": 4,
   "metadata": {},
   "outputs": [],
   "source": [
    "for key in list(constants.keys()):\n",
    "    if key.startswith('M') and not key.endswith('inverse'):\n",
    "        if key + '_inverse' not in constants:\n",
    "            print(key)"
   ]
  },
  {
   "cell_type": "code",
   "execution_count": 18,
   "metadata": {},
   "outputs": [],
   "source": [
    "cp.get_default_memory_pool().free_all_blocks()"
   ]
  },
  {
   "cell_type": "code",
   "execution_count": 21,
   "metadata": {},
   "outputs": [],
   "source": [
    "def gpu_to_cpu():\n",
    "    for k, v in constants.items():\n",
    "        if isinstance(v, cp.sparse.spmatrix):\n",
    "            constants[k] = sp.csr_matrix(v.get())\n",
    "    cp.get_default_memory_pool().free_all_blocks()\n",
    "\n",
    "def cpu_to_gpu():\n",
    "    for k, v in constants.items():\n",
    "        if isinstance(v, sp.spmatrix):\n",
    "            constants[k] = cp.sparse.csr_matrix(v)"
   ]
  },
  {
   "cell_type": "code",
   "execution_count": null,
   "metadata": {},
   "outputs": [],
   "source": [
    "for key in list(constants.keys()):\n",
    "    if key.startswith('M') and not key.endswith('inverse'):\n",
    "        if key + '_inverse' not in constants:\n",
    "            # calculate the inverse\n",
    "            print(f\"Calculating {key}\")\n",
    "            constants[key + '_inverse'] = inv(cp.sparse.coo_matrix(constants[key]))\n",
    "        else:\n",
    "            # check if the inverse is correct in another device\n",
    "            print(f\"Checking {key}\")\n",
    "            I = constants[key + '_inverse'] * constants[key]\n",
    "            set_tol(I, 1e-10)\n",
    "            assert I.nnz == I.shape[0]\n",
    "            assert cp.allclose(I.diagonal(), 1)\n",
    "    "
   ]
  },
  {
   "cell_type": "code",
   "execution_count": null,
   "metadata": {},
   "outputs": [],
   "source": [
    "pickle.dump((constants, (string, soundboard, air, gamma)), open('constants.pkl', 'wb'))"
   ]
  },
  {
   "cell_type": "code",
   "execution_count": 120,
   "metadata": {},
   "outputs": [],
   "source": [
    "cpu_to_gpu()"
   ]
  },
  {
   "cell_type": "code",
   "execution_count": 18,
   "metadata": {},
   "outputs": [
    {
     "data": {
      "text/plain": [
       "50"
      ]
     },
     "execution_count": 18,
     "metadata": {},
     "output_type": "execute_result"
    }
   ],
   "source": [
    "len(omega_n)"
   ]
  },
  {
   "cell_type": "code",
   "execution_count": 84,
   "metadata": {},
   "outputs": [
    {
     "name": "stdout",
     "output_type": "stream",
     "text": [
      "v_s\t(99,)\n",
      "q\t(100,)\n",
      "v_p\t(20400,)\n",
      "M_p\t(61200,)\n",
      "v_a\t(382500,)\n",
      "p_a\t(125000,)\n",
      "lambda\t(44761,)\n"
     ]
    }
   ],
   "source": [
    "constants['dt'] = 0.1\n",
    "variables = {\n",
    "    # variables on the string\n",
    "    'v_s': np.zeros((constants['Ns']-1)),    # v_s is piecewise constant on the string\n",
    "    'q': np.zeros((constants['Ns'])),         # q_s is piecewise linear on the string\n",
    "\n",
    "    # variables on the soundboard\n",
    "    'v_p': np.zeros((soundboard.num_vertices + soundboard.num_edges + soundboard.num_centers)),\n",
    "    'M_p': np.zeros((soundboard.num_vertices + soundboard.num_edges + soundboard.num_centers) * 3),\n",
    "\n",
    "    # variables in the air\n",
    "    'v_a': np.zeros(3 * (air.resolution[0] * air.resolution[1] * air.resolution[2]) + air.resolution[0] * air.resolution[1] + air.resolution[1] * air.resolution[2] + air.resolution[0] * air.resolution[2]),\n",
    "    'p_a': np.zeros(air.resolution[0] * air.resolution[1] * air.resolution[2]),\n",
    "    \n",
    "    # variables on the gittar body\n",
    "    'lambda': cp.zeros((len(gamma.vertices))),\n",
    "}\n",
    "\n",
    "for k, v in variables.items():\n",
    "    print(k, v.shape, sep='\\t')\n",
    "\n"
   ]
  },
  {
   "cell_type": "code",
   "execution_count": 124,
   "metadata": {},
   "outputs": [
    {
     "data": {
      "text/plain": [
       "(20400, 20400)"
      ]
     },
     "execution_count": 124,
     "metadata": {},
     "output_type": "execute_result"
    }
   ],
   "source": [
    "constants['K_h'].shape"
   ]
  },
  {
   "cell_type": "code",
   "execution_count": 127,
   "metadata": {},
   "outputs": [
    {
     "data": {
      "text/plain": [
       "array([[ 6.06316890e-06, -2.36713393e-06,  2.03974070e-06, ...,\n",
       "         0.00000000e+00,  0.00000000e+00,  0.00000000e+00],\n",
       "       [-2.15629451e-06,  5.19527483e-06, -2.62461209e-06, ...,\n",
       "         0.00000000e+00,  0.00000000e+00,  0.00000000e+00],\n",
       "       [ 1.80820770e-06, -2.74120046e-06,  5.08111544e-06, ...,\n",
       "         0.00000000e+00,  0.00000000e+00,  0.00000000e+00],\n",
       "       ...,\n",
       "       [ 0.00000000e+00,  0.00000000e+00,  0.00000000e+00, ...,\n",
       "         7.79486611e-07, -6.55819568e-10, -1.23879834e-08],\n",
       "       [ 0.00000000e+00,  0.00000000e+00,  0.00000000e+00, ...,\n",
       "        -1.25677576e-10,  7.61542531e-07, -1.90321641e-08],\n",
       "       [ 0.00000000e+00,  0.00000000e+00,  0.00000000e+00, ...,\n",
       "        -1.86651554e-08,  1.31322886e-08,  7.04790621e-07]])"
      ]
     },
     "execution_count": 127,
     "metadata": {},
     "output_type": "execute_result"
    }
   ],
   "source": [
    "denseK_h = constants['K_h'].todense()"
   ]
  },
  {
   "cell_type": "code",
   "execution_count": 122,
   "metadata": {},
   "outputs": [
    {
     "data": {
      "text/plain": [
       "array([             nan,              nan,              nan,\n",
       "                    nan,              nan,              nan,\n",
       "                    nan,              nan,              nan,\n",
       "                    nan,              nan,              nan,\n",
       "                    nan,              nan,              nan,\n",
       "                    nan,              nan,              nan,\n",
       "                    nan,              nan, -4.58717617e+241,\n",
       "                    nan,              nan,              nan,\n",
       "                    nan,              nan,              nan,\n",
       "                    nan,              nan,              nan,\n",
       "                    nan,              nan,              nan,\n",
       "                    nan,              nan,              nan,\n",
       "                    nan,              nan,              nan,\n",
       "                    nan,              nan,              nan,\n",
       "                    nan,              nan,              nan,\n",
       "                    nan,              nan,              nan,\n",
       "                    nan,              nan])"
      ]
     },
     "execution_count": 122,
     "metadata": {},
     "output_type": "execute_result"
    }
   ],
   "source": []
  },
  {
   "cell_type": "code",
   "execution_count": 170,
   "metadata": {},
   "outputs": [
    {
     "data": {
      "text/plain": [
       "array([8.07541306e-05, 8.13910275e-05, 8.24117595e-05])"
      ]
     },
     "execution_count": 170,
     "metadata": {},
     "output_type": "execute_result"
    }
   ],
   "source": [
    "constants['n_specturm'] = 3\n",
    "constants['K_h'] = constants['H_h'].T * constants['M_Mh'] * constants['H_h']\n",
    "constants['omega_n'] = cupyx.scipy.sparse.linalg.eigsh(constants['K_h'], k=constants['n_specturm'], which='LA', return_eigenvectors=False)\n",
    "constants['omega_n']"
   ]
  },
  {
   "cell_type": "code",
   "execution_count": 61,
   "metadata": {},
   "outputs": [],
   "source": [
    "gpu_to_cpu()"
   ]
  },
  {
   "cell_type": "markdown",
   "metadata": {},
   "source": [
    "            len(vp)         len(va)     len(lambda)     len(q)\n",
    "\n",
    "len(vp)         1            0          c B_omega        c J\n",
    "\n",
    "len(va)         0           M_h/dt      -B_gamma^T       0\n",
    "\n",
    "len(lambda)     2B_omega    -B_gamma        0            0\n",
    "\n",
    "len(q)         -J^T        0               0           Mq/dt"
   ]
  },
  {
   "cell_type": "markdown",
   "metadata": {},
   "source": [
    "            20400       382500      44761        100\n",
    "20400\n",
    "\n",
    "382500\n",
    "\n",
    "44761\n",
    "\n",
    "100         "
   ]
  },
  {
   "cell_type": "code",
   "execution_count": 111,
   "metadata": {},
   "outputs": [
    {
     "data": {
      "text/plain": [
       "[20400, 382500, 44761, 100]"
      ]
     },
     "execution_count": 111,
     "metadata": {},
     "output_type": "execute_result"
    }
   ],
   "source": [
    "lengths = [\n",
    "    len(variables['v_p']),\n",
    "    len(variables['v_a']),\n",
    "    len(variables['lambda']),\n",
    "    len(variables['q']),\n",
    "]\n",
    "\n",
    "lengths"
   ]
  },
  {
   "cell_type": "code",
   "execution_count": 270,
   "metadata": {},
   "outputs": [
    {
     "name": "stdout",
     "output_type": "stream",
     "text": [
      "-0.015564419581502401\n",
      "[-0.03789123  0.20127893 -0.19165861 -0.00556507  0.95983699]\n",
      "1.0482667897616447\n",
      "[0.99916072 0.01854816 0.00368782 0.00159973 0.03629968]\n"
     ]
    }
   ],
   "source": [
    "def cos_sqrt(M: cp.sparse.spmatrix, n_specturm: int):\n",
    "    # make sure M is positive definite\n",
    "    # if M is positive definite\n",
    "    # if M = V Lamda V^T\n",
    "\n",
    "    eigvals, eigvects  = cupyx.scipy.sparse.linalg.eigsh(M, k=n_specturm, which='SA', return_eigenvectors=True, tol=1e-10)\n",
    "    for i in range(n_specturm):\n",
    "        print(eigvals[i])\n",
    "        print(eigvects[:, i])\n",
    "    \n",
    "    return eigvects @  cp.diag(cp.cos(cp.sqrt(eigvals))) @ eigvects.T\n",
    "\n",
    "M = cp.sparse.csc_matrix(\n",
    "    (cp.array([1, 2, 3, 3, 2, 6.]),\n",
    "    (cp.array([0, 1, 2, 1, 2, 3]), \n",
    "     cp.array([0, 1, 2, 2, 1, 3]))),\n",
    "    shape=(5, 5)\n",
    ")\n",
    "# print(M.todense())\n",
    "\n",
    "\n",
    "# calculate the eigenvalues\n",
    "eigenvalues = cp.linalg.eigvalsh(M.todense())\n",
    "eigenvalues\n",
    "\n",
    "cos_sqrt(M, 2)\n",
    "pass"
   ]
  },
  {
   "cell_type": "code",
   "execution_count": 215,
   "metadata": {},
   "outputs": [
    {
     "name": "stdout",
     "output_type": "stream",
     "text": [
      "[5. 0. 1. 6. 0.]\n"
     ]
    },
    {
     "data": {
      "text/plain": [
       "matrix([[ 0.        ,  0.        ,  1.        ,  0.        ,  0.        ],\n",
       "        [ 0.70710678,  0.83205029,  0.        ,  0.        ,  0.        ],\n",
       "        [ 0.70710678, -0.5547002 ,  0.        ,  0.        ,  0.        ],\n",
       "        [ 0.        ,  0.        ,  0.        ,  1.        ,  0.        ],\n",
       "        [ 0.        ,  0.        ,  0.        ,  0.        ,  1.        ]])"
      ]
     },
     "execution_count": 215,
     "metadata": {},
     "output_type": "execute_result"
    }
   ],
   "source": [
    "eig_result = np.linalg.eig(M.get().todense())\n",
    "print(eig_result.eigenvalues)\n",
    "eig_result.eigenvectors"
   ]
  },
  {
   "cell_type": "code",
   "execution_count": 246,
   "metadata": {},
   "outputs": [
    {
     "data": {
      "text/plain": [
       "matrix([[0., 0., 0., 0., 0.],\n",
       "        [0., 2., 3., 0., 0.],\n",
       "        [0., 2., 3., 0., 0.],\n",
       "        [0., 0., 0., 0., 0.],\n",
       "        [0., 0., 0., 0., 0.]])"
      ]
     },
     "execution_count": 246,
     "metadata": {},
     "output_type": "execute_result"
    }
   ],
   "source": [
    "(eig_result.eigenvectors)[:, :2] @ np.diag(eig_result.eigenvalues)[:2,:2] @ np.linalg.inv(eig_result.eigenvectors)[:2]"
   ]
  },
  {
   "cell_type": "code",
   "execution_count": 178,
   "metadata": {},
   "outputs": [
    {
     "name": "stdout",
     "output_type": "stream",
     "text": [
      "8.075413063733712e-05\n",
      "8.13910274957755e-05\n",
      "8.241175952704385e-05\n"
     ]
    },
    {
     "data": {
      "text/plain": [
       "<447761x447761 sparse matrix of type '<class 'numpy.float64'>'\n",
       "\twith 1852399 stored elements in COOrdinate format>"
      ]
     },
     "execution_count": 178,
     "metadata": {},
     "output_type": "execute_result"
    }
   ],
   "source": [
    "gpu_to_cpu()\n",
    "\n",
    "\n",
    "all_blocks = [[sp.csr_matrix((lengths[i], lengths[j])) for j in range(4)] for i in range(4)]\n",
    "\n",
    "\n",
    "all_blocks[0][0] = sp.identity(len(variables['v_p']))\n",
    "\n",
    "all_blocks[1][1] = constants['M_ah'] / constants['delta_t']\n",
    "\n",
    "# all_blocks[2][0] = 2 * constants['B_omega_h']\n",
    "\n",
    "all_blocks[2][1] = 2 * -constants['B_gamma_h']\n",
    "all_blocks[1][2] = 2 * -constants['B_gamma_h'].T\n",
    "\n",
    "all_blocks[3][0] = -constants['J_h'].T\n",
    "all_blocks[3][3] = constants['M_qh'].T\n",
    "\n",
    "\n",
    "\n",
    "import scipy\n",
    "for omega in constants['omega_n']:\n",
    "    print(omega)\n",
    "    # K = omage\n",
    "    C = 1 - scipy.cos\n",
    "    all_blocks[0][2] = 1-cos()\n",
    "# all_blocks[0][3] = \n",
    "\n",
    "\n",
    "all_blocks = sp.bmat(all_blocks)\n",
    "\n",
    "all_blocks"
   ]
  },
  {
   "cell_type": "code",
   "execution_count": null,
   "metadata": {},
   "outputs": [],
   "source": []
  },
  {
   "cell_type": "code",
   "execution_count": 106,
   "metadata": {},
   "outputs": [
    {
     "data": {
      "text/plain": [
       "(382500, 44761)"
      ]
     },
     "execution_count": 106,
     "metadata": {},
     "output_type": "execute_result"
    }
   ],
   "source": [
    "constants['B_gamma_h'].T.shape"
   ]
  },
  {
   "cell_type": "code",
   "execution_count": 107,
   "metadata": {},
   "outputs": [
    {
     "data": {
      "text/plain": [
       "<20400x100 sparse matrix of type '<class 'numpy.float64'>'\n",
       "\twith 7 stored elements in Compressed Sparse Row format>"
      ]
     },
     "execution_count": 107,
     "metadata": {},
     "output_type": "execute_result"
    }
   ],
   "source": [
    "constants['J_h']"
   ]
  },
  {
   "cell_type": "code",
   "execution_count": null,
   "metadata": {},
   "outputs": [],
   "source": [
    ","
   ]
  },
  {
   "cell_type": "code",
   "execution_count": 93,
   "metadata": {},
   "outputs": [
    {
     "data": {
      "text/plain": [
       "(100, 99)"
      ]
     },
     "execution_count": 93,
     "metadata": {},
     "output_type": "execute_result"
    }
   ],
   "source": [
    "constants['D_h'].T.shape"
   ]
  },
  {
   "cell_type": "code",
   "execution_count": 90,
   "metadata": {},
   "outputs": [
    {
     "data": {
      "text/plain": [
       "(100, 100)"
      ]
     },
     "execution_count": 90,
     "metadata": {},
     "output_type": "execute_result"
    }
   ],
   "source": [
    "constants['M_qh'].shape"
   ]
  },
  {
   "cell_type": "code",
   "execution_count": 86,
   "metadata": {},
   "outputs": [
    {
     "data": {
      "text/plain": [
       "(100,)"
      ]
     },
     "execution_count": 86,
     "metadata": {},
     "output_type": "execute_result"
    }
   ],
   "source": [
    "# left\n",
    "\n",
    "(constants['J_h'].T * variables['v_p'] + constants['M_qh'] * variables['q']) "
   ]
  },
  {
   "cell_type": "code",
   "execution_count": 87,
   "metadata": {},
   "outputs": [
    {
     "data": {
      "text/plain": [
       "<382500x382500 sparse matrix of type '<class 'numpy.float64'>'\n",
       "\twith 1132500 stored elements in Compressed Sparse Row format>"
      ]
     },
     "execution_count": 87,
     "metadata": {},
     "output_type": "execute_result"
    }
   ],
   "source": [
    "constants['M_ah']"
   ]
  },
  {
   "cell_type": "code",
   "execution_count": 88,
   "metadata": {},
   "outputs": [
    {
     "data": {
      "text/plain": [
       "(382500,)"
      ]
     },
     "execution_count": 88,
     "metadata": {},
     "output_type": "execute_result"
    }
   ],
   "source": [
    "variables['v_a'].shape"
   ]
  },
  {
   "cell_type": "code",
   "execution_count": null,
   "metadata": {},
   "outputs": [],
   "source": [
    "# right\n",
    "constants['M_qh'] * variables['v_s'] + "
   ]
  },
  {
   "cell_type": "code",
   "execution_count": 79,
   "metadata": {},
   "outputs": [
    {
     "data": {
      "text/plain": [
       "<100x20400 sparse matrix of type '<class 'numpy.float64'>'\n",
       "\twith 7 stored elements in Compressed Sparse Column format>"
      ]
     },
     "execution_count": 79,
     "metadata": {},
     "output_type": "execute_result"
    }
   ],
   "source": [
    "constants['J_h'].T"
   ]
  },
  {
   "cell_type": "code",
   "execution_count": 65,
   "metadata": {},
   "outputs": [
    {
     "ename": "ValueError",
     "evalue": "blocks[0,:] has incompatible row dimensions. Got blocks[0,1].shape[0] == 1, expected 100.",
     "output_type": "error",
     "traceback": [
      "\u001b[0;31m---------------------------------------------------------------------------\u001b[0m",
      "\u001b[0;31mValueError\u001b[0m                                Traceback (most recent call last)",
      "Cell \u001b[0;32mIn[65], line 1\u001b[0m\n\u001b[0;32m----> 1\u001b[0m sp\u001b[38;5;241m.\u001b[39mhstack([constants[\u001b[38;5;124m'\u001b[39m\u001b[38;5;124mJ_h\u001b[39m\u001b[38;5;124m'\u001b[39m]\u001b[38;5;241m.\u001b[39mT, \u001b[38;5;241m0\u001b[39m, \u001b[38;5;241m0\u001b[39m, constants[\u001b[38;5;124m'\u001b[39m\u001b[38;5;124mM_qh\u001b[39m\u001b[38;5;124m'\u001b[39m]])\n",
      "File \u001b[0;32m~/miniconda3/envs/torch/lib/python3.11/site-packages/scipy/sparse/_construct.py:733\u001b[0m, in \u001b[0;36mhstack\u001b[0;34m(blocks, format, dtype)\u001b[0m\n\u001b[1;32m    731\u001b[0m     \u001b[38;5;28;01mreturn\u001b[39;00m _block([blocks], \u001b[38;5;28mformat\u001b[39m, dtype)\n\u001b[1;32m    732\u001b[0m \u001b[38;5;28;01melse\u001b[39;00m:\n\u001b[0;32m--> 733\u001b[0m     \u001b[38;5;28;01mreturn\u001b[39;00m _block([blocks], \u001b[38;5;28mformat\u001b[39m, dtype, return_spmatrix\u001b[38;5;241m=\u001b[39m\u001b[38;5;28;01mTrue\u001b[39;00m)\n",
      "File \u001b[0;32m~/miniconda3/envs/torch/lib/python3.11/site-packages/scipy/sparse/_construct.py:948\u001b[0m, in \u001b[0;36m_block\u001b[0;34m(blocks, format, dtype, return_spmatrix)\u001b[0m\n\u001b[1;32m    944\u001b[0m \u001b[38;5;28;01melif\u001b[39;00m brow_lengths[i] \u001b[38;5;241m!=\u001b[39m A\u001b[38;5;241m.\u001b[39mshape[\u001b[38;5;241m0\u001b[39m]:\n\u001b[1;32m    945\u001b[0m     msg \u001b[38;5;241m=\u001b[39m (\u001b[38;5;124mf\u001b[39m\u001b[38;5;124m'\u001b[39m\u001b[38;5;124mblocks[\u001b[39m\u001b[38;5;132;01m{\u001b[39;00mi\u001b[38;5;132;01m}\u001b[39;00m\u001b[38;5;124m,:] has incompatible row dimensions. \u001b[39m\u001b[38;5;124m'\u001b[39m\n\u001b[1;32m    946\u001b[0m            \u001b[38;5;124mf\u001b[39m\u001b[38;5;124m'\u001b[39m\u001b[38;5;124mGot blocks[\u001b[39m\u001b[38;5;132;01m{\u001b[39;00mi\u001b[38;5;132;01m}\u001b[39;00m\u001b[38;5;124m,\u001b[39m\u001b[38;5;132;01m{\u001b[39;00mj\u001b[38;5;132;01m}\u001b[39;00m\u001b[38;5;124m].shape[0] == \u001b[39m\u001b[38;5;132;01m{\u001b[39;00mA\u001b[38;5;241m.\u001b[39mshape[\u001b[38;5;241m0\u001b[39m]\u001b[38;5;132;01m}\u001b[39;00m\u001b[38;5;124m, \u001b[39m\u001b[38;5;124m'\u001b[39m\n\u001b[1;32m    947\u001b[0m            \u001b[38;5;124mf\u001b[39m\u001b[38;5;124m'\u001b[39m\u001b[38;5;124mexpected \u001b[39m\u001b[38;5;132;01m{\u001b[39;00mbrow_lengths[i]\u001b[38;5;132;01m}\u001b[39;00m\u001b[38;5;124m.\u001b[39m\u001b[38;5;124m'\u001b[39m)\n\u001b[0;32m--> 948\u001b[0m     \u001b[38;5;28;01mraise\u001b[39;00m \u001b[38;5;167;01mValueError\u001b[39;00m(msg)\n\u001b[1;32m    950\u001b[0m \u001b[38;5;28;01mif\u001b[39;00m bcol_lengths[j] \u001b[38;5;241m==\u001b[39m \u001b[38;5;241m0\u001b[39m:\n\u001b[1;32m    951\u001b[0m     bcol_lengths[j] \u001b[38;5;241m=\u001b[39m A\u001b[38;5;241m.\u001b[39mshape[\u001b[38;5;241m1\u001b[39m]\n",
      "\u001b[0;31mValueError\u001b[0m: blocks[0,:] has incompatible row dimensions. Got blocks[0,1].shape[0] == 1, expected 100."
     ]
    }
   ],
   "source": [
    "sp.hstack([constants['J_h'].T, sp.csr_matrix((3, 3)), 0, constants['M_qh']])"
   ]
  },
  {
   "cell_type": "code",
   "execution_count": 75,
   "metadata": {},
   "outputs": [
    {
     "data": {
      "text/plain": [
       "(100, 20400)"
      ]
     },
     "execution_count": 75,
     "metadata": {},
     "output_type": "execute_result"
    }
   ],
   "source": [
    "constants['J_h'].T.shape"
   ]
  },
  {
   "cell_type": "code",
   "execution_count": 35,
   "metadata": {},
   "outputs": [
    {
     "ename": "TypeError",
     "evalue": "expected dimension <= 2 array or matrix",
     "output_type": "error",
     "traceback": [
      "\u001b[0;31m---------------------------------------------------------------------------\u001b[0m",
      "\u001b[0;31mTypeError\u001b[0m                                 Traceback (most recent call last)",
      "Cell \u001b[0;32mIn[35], line 10\u001b[0m\n\u001b[1;32m      7\u001b[0m dt \u001b[38;5;241m=\u001b[39m \u001b[38;5;241m0.1\u001b[39m\n\u001b[1;32m      9\u001b[0m \u001b[38;5;66;03m# 计算一些中间值\u001b[39;00m\n\u001b[0;32m---> 10\u001b[0m val_1 \u001b[38;5;241m=\u001b[39m sp\u001b[38;5;241m.\u001b[39mcsr_matrix([(\u001b[38;5;241m1\u001b[39m \u001b[38;5;241m-\u001b[39m np\u001b[38;5;241m.\u001b[39mcos(np\u001b[38;5;241m.\u001b[39msqrt(K_h\u001b[38;5;241m.\u001b[39mtoarray()) \u001b[38;5;241m*\u001b[39m dt)) \u001b[38;5;241m/\u001b[39m np\u001b[38;5;241m.\u001b[39msqrt(K_h\u001b[38;5;241m.\u001b[39mtoarray())])\n\u001b[1;32m     11\u001b[0m val_2 \u001b[38;5;241m=\u001b[39m B_T_h \u001b[38;5;241m/\u001b[39m dt\n\u001b[1;32m     12\u001b[0m val_3 \u001b[38;5;241m=\u001b[39m J_h_T \u001b[38;5;241m/\u001b[39m (\u001b[38;5;241m2\u001b[39m \u001b[38;5;241m*\u001b[39m dt)\n",
      "File \u001b[0;32m~/miniconda3/envs/torch/lib/python3.11/site-packages/scipy/sparse/_compressed.py:86\u001b[0m, in \u001b[0;36m_cs_matrix.__init__\u001b[0;34m(self, arg1, shape, dtype, copy)\u001b[0m\n\u001b[1;32m     83\u001b[0m         msg \u001b[38;5;241m=\u001b[39m \u001b[38;5;124mf\u001b[39m\u001b[38;5;124m\"\u001b[39m\u001b[38;5;124munrecognized \u001b[39m\u001b[38;5;132;01m{\u001b[39;00m\u001b[38;5;28mself\u001b[39m\u001b[38;5;241m.\u001b[39mformat\u001b[38;5;132;01m}\u001b[39;00m\u001b[38;5;124m_matrix constructor usage\u001b[39m\u001b[38;5;124m\"\u001b[39m\n\u001b[1;32m     84\u001b[0m         \u001b[38;5;28;01mraise\u001b[39;00m \u001b[38;5;167;01mValueError\u001b[39;00m(msg) \u001b[38;5;28;01mfrom\u001b[39;00m \u001b[38;5;21;01me\u001b[39;00m\n\u001b[1;32m     85\u001b[0m     \u001b[38;5;28mself\u001b[39m\u001b[38;5;241m.\u001b[39m_set_self(\u001b[38;5;28mself\u001b[39m\u001b[38;5;241m.\u001b[39m\u001b[38;5;18m__class__\u001b[39m(\n\u001b[0;32m---> 86\u001b[0m         \u001b[38;5;28mself\u001b[39m\u001b[38;5;241m.\u001b[39m_coo_container(arg1, dtype\u001b[38;5;241m=\u001b[39mdtype)\n\u001b[1;32m     87\u001b[0m     ))\n\u001b[1;32m     89\u001b[0m \u001b[38;5;66;03m# Read matrix dimensions given, if any\u001b[39;00m\n\u001b[1;32m     90\u001b[0m \u001b[38;5;28;01mif\u001b[39;00m shape \u001b[38;5;129;01mis\u001b[39;00m \u001b[38;5;129;01mnot\u001b[39;00m \u001b[38;5;28;01mNone\u001b[39;00m:\n",
      "File \u001b[0;32m~/miniconda3/envs/torch/lib/python3.11/site-packages/scipy/sparse/_coo.py:82\u001b[0m, in \u001b[0;36m_coo_base.__init__\u001b[0;34m(self, arg1, shape, dtype, copy)\u001b[0m\n\u001b[1;32m     79\u001b[0m M \u001b[38;5;241m=\u001b[39m np\u001b[38;5;241m.\u001b[39matleast_2d(np\u001b[38;5;241m.\u001b[39masarray(arg1))\n\u001b[1;32m     81\u001b[0m \u001b[38;5;28;01mif\u001b[39;00m M\u001b[38;5;241m.\u001b[39mndim \u001b[38;5;241m!=\u001b[39m \u001b[38;5;241m2\u001b[39m:\n\u001b[0;32m---> 82\u001b[0m     \u001b[38;5;28;01mraise\u001b[39;00m \u001b[38;5;167;01mTypeError\u001b[39;00m(\u001b[38;5;124m'\u001b[39m\u001b[38;5;124mexpected dimension <= 2 array or matrix\u001b[39m\u001b[38;5;124m'\u001b[39m)\n\u001b[1;32m     84\u001b[0m \u001b[38;5;28mself\u001b[39m\u001b[38;5;241m.\u001b[39m_shape \u001b[38;5;241m=\u001b[39m check_shape(M\u001b[38;5;241m.\u001b[39mshape)\n\u001b[1;32m     85\u001b[0m \u001b[38;5;28;01mif\u001b[39;00m shape \u001b[38;5;129;01mis\u001b[39;00m \u001b[38;5;129;01mnot\u001b[39;00m \u001b[38;5;28;01mNone\u001b[39;00m:\n",
      "\u001b[0;31mTypeError\u001b[0m: expected dimension <= 2 array or matrix"
     ]
    }
   ],
   "source": [
    "J_h_T = constants['J_h'].T  # (100, 20400)\n",
    "M_a_h = constants['M_ah']   # (382500, 382500)\n",
    "B_T_h = sp.csr_matrix([[1]])  \n",
    "B_omega_h = sp.csr_matrix([[2]])  \n",
    "K_h = sp.csr_matrix([[1]])   \n",
    "M_q_h = sp.csr_matrix([[1]]) \n",
    "dt = 0.1\n",
    "\n",
    "# 计算一些中间值\n",
    "val_1 = sp.val_2 = B_T_h / dt\n",
    "val_3 = J_h_T / (2 * dt)\n",
    "\n",
    "# 拼接大矩阵\n",
    "row1 = sp.hstack([-J_h_T, sp.csr_matrix((1, 1)), sp.csr_matrix((1, 1)), sp.csr_matrix((1, 1)), M_q_h / dt])\n",
    "row2 = sp.hstack([sp.csr_matrix((1, 1)), M_a_h / dt, sp.csr_matrix((1, 1)), -B_T_h, sp.csr_matrix((1, 1))])\n",
    "row3 = sp.hstack([2 * B_omega_h, -B_T_h, sp.csr_matrix((1, 1)), sp.csr_matrix((1, 1)), sp.csr_matrix((1, 1))])\n",
    "row4 = sp.hstack([sp.csr_matrix((1, 1)), sp.csr_matrix((1, 1)), val_1, val_2, val_1])\n",
    "row5 = sp.hstack([sp.csr_matrix((1, 1)), sp.csr_matrix((1, 1)), sp.csr_matrix((1, 1)), sp.csr_matrix((1, 1)), val_3])\n",
    "\n",
    "big_matrix = sp.vstack([row1, row2, row3, row4, row5])\n",
    "\n",
    "print(big_matrix.toarray())  # 打印稠密矩阵以验证\n"
   ]
  },
  {
   "cell_type": "code",
   "execution_count": null,
   "metadata": {},
   "outputs": [],
   "source": [
    "\n",
    "import numpy as np\n",
    "import scipy.sparse as sp\n",
    "\n",
    "class PhysicalSimulation:\n",
    "    def __init__(self, constants, soundboard, air, gamma):\n",
    "        self.constants = constants\n",
    "        self.time_step = constants['dt']\n",
    "        \n",
    "        self.variables = {\n",
    "            'v_s': sp.csr_matrix((constants['Ns']-1, 1)),  # Piecewise constant on the string\n",
    "            'q': sp.csr_matrix((constants['Ns'], 1)),       # Piecewise linear on the string\n",
    "\n",
    "            # Variables on the soundboard\n",
    "            'v_p': sp.csr_matrix((soundboard.num_vertices + soundboard.num_edges + soundboard.num_centers, 1)),\n",
    "            'M_p': sp.csr_matrix(((soundboard.num_vertices + soundboard.num_edges + soundboard.num_centers) * 3, 1)),\n",
    "\n",
    "            # Variables in the air\n",
    "            'v_a': sp.csr_matrix((3 * (air.resolution[0] * air.resolution[1] * air.resolution[2]) + \n",
    "                                  air.resolution[0] * air.resolution[1] + \n",
    "                                  air.resolution[1] * air.resolution[2] + \n",
    "                                  air.resolution[0] * air.resolution[2], 1)),\n",
    "            'p_a': sp.csr_matrix((air.resolution[0] * air.resolution[1] * air.resolution[2], 1)),\n",
    "\n",
    "            # Variables on the guitar body\n",
    "            'lambda': sp.csr_matrix((len(gamma.vertices), 1))\n",
    "        }\n",
    "        \n",
    "        \n",
    "        for k, v in variables.items():\n",
    "            print(k, v.shape, sep='\\t')\n",
    "\n",
    "        # Initialize history for each variable\n",
    "        self.history = {k: [v.copy()] for k, v in self.variables.items()}\n",
    "\n",
    "        self.constants['K_h'] = self.constants['H_h'].T * self.constants['M_Mh'] * self.constants['H_h']\n",
    "        self.constants['omega_n'] = cupyx.scipy.sparse.linalg.eigsh(self.constants['K_h'], k=self.constants['n_specturm'], which='SA')\n",
    "        \n",
    "\n",
    "    def update(self):\n",
    "        # Placeholder for the actual update logic\n",
    "        for key, value in self.variables.items():\n",
    "            # This is where the update equations would go\n",
    "            # For now, we'll just add a small random increment for demonstration purposes\n",
    "            self.variables[key] += sp.csr_matrix(np.random.randn(*value.shape) * self.time_step)\n",
    "\n",
    "            # Store the updated state in history\n",
    "            self.history[key].append(self.variables[key].copy())\n",
    "\n",
    "    def get_history(self):\n",
    "        return self.history\n",
    "\n",
    "# Example usage:\n",
    "\n",
    "class Soundboard:\n",
    "    num_vertices = 100\n",
    "    num_edges = 50\n",
    "    num_centers = 20\n",
    "\n",
    "class Air:\n",
    "    resolution = (10, 10, 10)\n",
    "\n",
    "class Gamma:\n",
    "    vertices = range(30)\n",
    "\n",
    "constants = {'dt': 0.1, 'Ns': 50}\n",
    "soundboard = Soundboard()\n",
    "air = Air()\n",
    "gamma = Gamma()\n",
    "\n",
    "simulation = PhysicalSimulation(constants, soundboard, air, gamma)\n",
    "\n",
    "# Update the simulation for 10 time steps\n",
    "for _ in range(10):\n",
    "    simulation.update()\n",
    "\n",
    "history = simulation.get_history()\n",
    "\n",
    "# Print history shapes to verify\n",
    "for k, v in history.items():\n",
    "    print(f\"{k}: {len(v)} time steps, shape {v[0].shape}\")\n",
    "\n",
    "\n",
    "class Simulation:\n",
    "\n",
    "    history: list\n",
    "\n",
    "    def __init__(self, variables, constants):\n",
    "        self.variables = variables\n",
    "        self.constants = constants\n",
    "        \n",
    "\n",
    "    def step(self):\n"
   ]
  },
  {
   "cell_type": "code",
   "execution_count": 20,
   "metadata": {},
   "outputs": [
    {
     "data": {
      "text/plain": [
       "<CUDA Device 1>"
      ]
     },
     "execution_count": 20,
     "metadata": {},
     "output_type": "execute_result"
    }
   ],
   "source": [
    "cp.cuda.Device(1).use()"
   ]
  },
  {
   "cell_type": "code",
   "execution_count": 26,
   "metadata": {},
   "outputs": [],
   "source": [
    "cpu_to_gpu()"
   ]
  },
  {
   "cell_type": "code",
   "execution_count": 25,
   "metadata": {},
   "outputs": [],
   "source": [
    "gpu_to_cpu()"
   ]
  },
  {
   "cell_type": "code",
   "execution_count": 31,
   "metadata": {},
   "outputs": [],
   "source": [
    "constants['delta_t'] = 1 / 50000"
   ]
  },
  {
   "cell_type": "code",
   "execution_count": 30,
   "metadata": {},
   "outputs": [],
   "source": [
    "\n",
    "\n"
   ]
  }
 ],
 "metadata": {
  "kernelspec": {
   "display_name": "torch",
   "language": "python",
   "name": "python3"
  },
  "language_info": {
   "codemirror_mode": {
    "name": "ipython",
    "version": 3
   },
   "file_extension": ".py",
   "mimetype": "text/x-python",
   "name": "python",
   "nbconvert_exporter": "python",
   "pygments_lexer": "ipython3",
   "version": "3.11.6"
  }
 },
 "nbformat": 4,
 "nbformat_minor": 2
}
